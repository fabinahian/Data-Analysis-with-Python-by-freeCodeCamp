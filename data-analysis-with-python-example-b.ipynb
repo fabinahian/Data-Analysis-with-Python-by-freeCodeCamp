{
 "cells": [
  {
   "cell_type": "markdown",
   "id": "38e246ad",
   "metadata": {
    "papermill": {
     "duration": 0.005864,
     "end_time": "2023-05-23T10:00:03.357719",
     "exception": false,
     "start_time": "2023-05-23T10:00:03.351855",
     "status": "completed"
    },
    "tags": []
   },
   "source": [
    "# Importing Libraries\n"
   ]
  },
  {
   "cell_type": "code",
   "execution_count": 1,
   "id": "e6386282",
   "metadata": {
    "execution": {
     "iopub.execute_input": "2023-05-23T10:00:03.370794Z",
     "iopub.status.busy": "2023-05-23T10:00:03.370386Z",
     "iopub.status.idle": "2023-05-23T10:00:03.383911Z",
     "shell.execute_reply": "2023-05-23T10:00:03.382818Z"
    },
    "papermill": {
     "duration": 0.022981,
     "end_time": "2023-05-23T10:00:03.386394",
     "exception": false,
     "start_time": "2023-05-23T10:00:03.363413",
     "status": "completed"
    },
    "tags": []
   },
   "outputs": [],
   "source": [
    "import numpy as np\n",
    "import pandas as pd\n",
    "import matplotlib.pyplot as plt\n",
    "import sqlite3\n",
    "\n",
    "%matplotlib inline"
   ]
  },
  {
   "cell_type": "markdown",
   "id": "137c3370",
   "metadata": {
    "papermill": {
     "duration": 0.00516,
     "end_time": "2023-05-23T10:00:03.397089",
     "exception": false,
     "start_time": "2023-05-23T10:00:03.391929",
     "status": "completed"
    },
    "tags": []
   },
   "source": [
    "# Loading Data"
   ]
  },
  {
   "cell_type": "code",
   "execution_count": 2,
   "id": "fd739ef1",
   "metadata": {
    "execution": {
     "iopub.execute_input": "2023-05-23T10:00:03.409681Z",
     "iopub.status.busy": "2023-05-23T10:00:03.409256Z",
     "iopub.status.idle": "2023-05-23T10:00:03.888156Z",
     "shell.execute_reply": "2023-05-23T10:00:03.887199Z"
    },
    "papermill": {
     "duration": 0.488149,
     "end_time": "2023-05-23T10:00:03.890732",
     "exception": false,
     "start_time": "2023-05-23T10:00:03.402583",
     "status": "completed"
    },
    "tags": []
   },
   "outputs": [],
   "source": [
    "conn = sqlite3.connect('/kaggle/input/sqlite-sakila-sample-database/sqlite-sakila.db')\n",
    "\n",
    "df = pd.read_sql('''\n",
    "    SELECT\n",
    "        rental.rental_id, rental.rental_date, rental.return_date,\n",
    "        customer.last_name AS customer_lastname,\n",
    "        store.store_id,\n",
    "        city.city AS rental_store_city,\n",
    "        film.title AS film_title, film.rental_duration AS film_rental_duration,\n",
    "        film.rental_rate AS film_rental_rate, film.replacement_cost AS film_replacement_cost,\n",
    "        film.rating AS film_rating\n",
    "    FROM rental\n",
    "    INNER JOIN customer ON rental.customer_id == customer.customer_id\n",
    "    INNER JOIN inventory ON rental.inventory_id == inventory.inventory_id\n",
    "    INNER JOIN store ON inventory.store_id == store.store_id\n",
    "    INNER JOIN address ON store.address_id == address.address_id\n",
    "    INNER JOIN city ON address.city_id == city.city_id\n",
    "    INNER JOIN film ON inventory.film_id == film.film_id\n",
    "    ;\n",
    "''', conn, index_col='rental_id', parse_dates=['rental_date', 'return_date'])"
   ]
  },
  {
   "cell_type": "markdown",
   "id": "0ea8a9f1",
   "metadata": {
    "papermill": {
     "duration": 0.005104,
     "end_time": "2023-05-23T10:00:03.901230",
     "exception": false,
     "start_time": "2023-05-23T10:00:03.896126",
     "status": "completed"
    },
    "tags": []
   },
   "source": [
    "# The Data at a Glance"
   ]
  },
  {
   "cell_type": "code",
   "execution_count": 3,
   "id": "9f4171b3",
   "metadata": {
    "execution": {
     "iopub.execute_input": "2023-05-23T10:00:03.913777Z",
     "iopub.status.busy": "2023-05-23T10:00:03.913226Z",
     "iopub.status.idle": "2023-05-23T10:00:03.942691Z",
     "shell.execute_reply": "2023-05-23T10:00:03.941599Z"
    },
    "papermill": {
     "duration": 0.039159,
     "end_time": "2023-05-23T10:00:03.945783",
     "exception": false,
     "start_time": "2023-05-23T10:00:03.906624",
     "status": "completed"
    },
    "tags": []
   },
   "outputs": [
    {
     "data": {
      "text/html": [
       "<div>\n",
       "<style scoped>\n",
       "    .dataframe tbody tr th:only-of-type {\n",
       "        vertical-align: middle;\n",
       "    }\n",
       "\n",
       "    .dataframe tbody tr th {\n",
       "        vertical-align: top;\n",
       "    }\n",
       "\n",
       "    .dataframe thead th {\n",
       "        text-align: right;\n",
       "    }\n",
       "</style>\n",
       "<table border=\"1\" class=\"dataframe\">\n",
       "  <thead>\n",
       "    <tr style=\"text-align: right;\">\n",
       "      <th></th>\n",
       "      <th>rental_date</th>\n",
       "      <th>return_date</th>\n",
       "      <th>customer_lastname</th>\n",
       "      <th>store_id</th>\n",
       "      <th>rental_store_city</th>\n",
       "      <th>film_title</th>\n",
       "      <th>film_rental_duration</th>\n",
       "      <th>film_rental_rate</th>\n",
       "      <th>film_replacement_cost</th>\n",
       "      <th>film_rating</th>\n",
       "    </tr>\n",
       "    <tr>\n",
       "      <th>rental_id</th>\n",
       "      <th></th>\n",
       "      <th></th>\n",
       "      <th></th>\n",
       "      <th></th>\n",
       "      <th></th>\n",
       "      <th></th>\n",
       "      <th></th>\n",
       "      <th></th>\n",
       "      <th></th>\n",
       "      <th></th>\n",
       "    </tr>\n",
       "  </thead>\n",
       "  <tbody>\n",
       "    <tr>\n",
       "      <th>1</th>\n",
       "      <td>2005-05-24 22:53:30</td>\n",
       "      <td>2005-05-26 22:04:30</td>\n",
       "      <td>HUNTER</td>\n",
       "      <td>1</td>\n",
       "      <td>Lethbridge</td>\n",
       "      <td>BLANKET BEVERLY</td>\n",
       "      <td>7</td>\n",
       "      <td>2.99</td>\n",
       "      <td>21.99</td>\n",
       "      <td>G</td>\n",
       "    </tr>\n",
       "    <tr>\n",
       "      <th>2</th>\n",
       "      <td>2005-05-24 22:54:33</td>\n",
       "      <td>2005-05-28 19:40:33</td>\n",
       "      <td>COLLAZO</td>\n",
       "      <td>2</td>\n",
       "      <td>Woodridge</td>\n",
       "      <td>FREAKY POCUS</td>\n",
       "      <td>7</td>\n",
       "      <td>2.99</td>\n",
       "      <td>16.99</td>\n",
       "      <td>R</td>\n",
       "    </tr>\n",
       "    <tr>\n",
       "      <th>3</th>\n",
       "      <td>2005-05-24 23:03:39</td>\n",
       "      <td>2005-06-01 22:12:39</td>\n",
       "      <td>MURRELL</td>\n",
       "      <td>2</td>\n",
       "      <td>Woodridge</td>\n",
       "      <td>GRADUATE LORD</td>\n",
       "      <td>7</td>\n",
       "      <td>2.99</td>\n",
       "      <td>14.99</td>\n",
       "      <td>G</td>\n",
       "    </tr>\n",
       "    <tr>\n",
       "      <th>4</th>\n",
       "      <td>2005-05-24 23:04:41</td>\n",
       "      <td>2005-06-03 01:43:41</td>\n",
       "      <td>PURDY</td>\n",
       "      <td>1</td>\n",
       "      <td>Lethbridge</td>\n",
       "      <td>LOVE SUICIDES</td>\n",
       "      <td>6</td>\n",
       "      <td>0.99</td>\n",
       "      <td>21.99</td>\n",
       "      <td>R</td>\n",
       "    </tr>\n",
       "    <tr>\n",
       "      <th>5</th>\n",
       "      <td>2005-05-24 23:05:21</td>\n",
       "      <td>2005-06-02 04:33:21</td>\n",
       "      <td>HANSEN</td>\n",
       "      <td>2</td>\n",
       "      <td>Woodridge</td>\n",
       "      <td>IDOLS SNATCHERS</td>\n",
       "      <td>5</td>\n",
       "      <td>2.99</td>\n",
       "      <td>29.99</td>\n",
       "      <td>NC-17</td>\n",
       "    </tr>\n",
       "  </tbody>\n",
       "</table>\n",
       "</div>"
      ],
      "text/plain": [
       "                  rental_date         return_date customer_lastname  store_id  \\\n",
       "rental_id                                                                       \n",
       "1         2005-05-24 22:53:30 2005-05-26 22:04:30            HUNTER         1   \n",
       "2         2005-05-24 22:54:33 2005-05-28 19:40:33           COLLAZO         2   \n",
       "3         2005-05-24 23:03:39 2005-06-01 22:12:39           MURRELL         2   \n",
       "4         2005-05-24 23:04:41 2005-06-03 01:43:41             PURDY         1   \n",
       "5         2005-05-24 23:05:21 2005-06-02 04:33:21            HANSEN         2   \n",
       "\n",
       "          rental_store_city       film_title  film_rental_duration  \\\n",
       "rental_id                                                            \n",
       "1                Lethbridge  BLANKET BEVERLY                     7   \n",
       "2                 Woodridge     FREAKY POCUS                     7   \n",
       "3                 Woodridge    GRADUATE LORD                     7   \n",
       "4                Lethbridge    LOVE SUICIDES                     6   \n",
       "5                 Woodridge  IDOLS SNATCHERS                     5   \n",
       "\n",
       "           film_rental_rate  film_replacement_cost film_rating  \n",
       "rental_id                                                       \n",
       "1                      2.99                  21.99           G  \n",
       "2                      2.99                  16.99           R  \n",
       "3                      2.99                  14.99           G  \n",
       "4                      0.99                  21.99           R  \n",
       "5                      2.99                  29.99       NC-17  "
      ]
     },
     "execution_count": 3,
     "metadata": {},
     "output_type": "execute_result"
    }
   ],
   "source": [
    "df.head()"
   ]
  },
  {
   "cell_type": "code",
   "execution_count": 4,
   "id": "fd6b29f9",
   "metadata": {
    "execution": {
     "iopub.execute_input": "2023-05-23T10:00:03.959335Z",
     "iopub.status.busy": "2023-05-23T10:00:03.958621Z",
     "iopub.status.idle": "2023-05-23T10:00:03.965692Z",
     "shell.execute_reply": "2023-05-23T10:00:03.964547Z"
    },
    "papermill": {
     "duration": 0.016567,
     "end_time": "2023-05-23T10:00:03.968128",
     "exception": false,
     "start_time": "2023-05-23T10:00:03.951561",
     "status": "completed"
    },
    "tags": []
   },
   "outputs": [
    {
     "data": {
      "text/plain": [
       "(16044, 10)"
      ]
     },
     "execution_count": 4,
     "metadata": {},
     "output_type": "execute_result"
    }
   ],
   "source": [
    "df.shape"
   ]
  },
  {
   "cell_type": "code",
   "execution_count": 5,
   "id": "4fc6bde6",
   "metadata": {
    "execution": {
     "iopub.execute_input": "2023-05-23T10:00:03.982098Z",
     "iopub.status.busy": "2023-05-23T10:00:03.981110Z",
     "iopub.status.idle": "2023-05-23T10:00:04.025447Z",
     "shell.execute_reply": "2023-05-23T10:00:04.023667Z"
    },
    "papermill": {
     "duration": 0.055016,
     "end_time": "2023-05-23T10:00:04.028977",
     "exception": false,
     "start_time": "2023-05-23T10:00:03.973961",
     "status": "completed"
    },
    "tags": []
   },
   "outputs": [
    {
     "name": "stdout",
     "output_type": "stream",
     "text": [
      "<class 'pandas.core.frame.DataFrame'>\n",
      "Int64Index: 16044 entries, 1 to 16049\n",
      "Data columns (total 10 columns):\n",
      " #   Column                 Non-Null Count  Dtype         \n",
      "---  ------                 --------------  -----         \n",
      " 0   rental_date            16044 non-null  datetime64[ns]\n",
      " 1   return_date            15861 non-null  datetime64[ns]\n",
      " 2   customer_lastname      16044 non-null  object        \n",
      " 3   store_id               16044 non-null  int64         \n",
      " 4   rental_store_city      16044 non-null  object        \n",
      " 5   film_title             16044 non-null  object        \n",
      " 6   film_rental_duration   16044 non-null  int64         \n",
      " 7   film_rental_rate       16044 non-null  float64       \n",
      " 8   film_replacement_cost  16044 non-null  float64       \n",
      " 9   film_rating            16044 non-null  object        \n",
      "dtypes: datetime64[ns](2), float64(2), int64(2), object(4)\n",
      "memory usage: 1.3+ MB\n"
     ]
    }
   ],
   "source": [
    "df.info()"
   ]
  },
  {
   "cell_type": "code",
   "execution_count": 6,
   "id": "bf2d3ad2",
   "metadata": {
    "execution": {
     "iopub.execute_input": "2023-05-23T10:00:04.043488Z",
     "iopub.status.busy": "2023-05-23T10:00:04.042779Z",
     "iopub.status.idle": "2023-05-23T10:00:04.070496Z",
     "shell.execute_reply": "2023-05-23T10:00:04.069251Z"
    },
    "papermill": {
     "duration": 0.037776,
     "end_time": "2023-05-23T10:00:04.072988",
     "exception": false,
     "start_time": "2023-05-23T10:00:04.035212",
     "status": "completed"
    },
    "tags": []
   },
   "outputs": [
    {
     "data": {
      "text/html": [
       "<div>\n",
       "<style scoped>\n",
       "    .dataframe tbody tr th:only-of-type {\n",
       "        vertical-align: middle;\n",
       "    }\n",
       "\n",
       "    .dataframe tbody tr th {\n",
       "        vertical-align: top;\n",
       "    }\n",
       "\n",
       "    .dataframe thead th {\n",
       "        text-align: right;\n",
       "    }\n",
       "</style>\n",
       "<table border=\"1\" class=\"dataframe\">\n",
       "  <thead>\n",
       "    <tr style=\"text-align: right;\">\n",
       "      <th></th>\n",
       "      <th>store_id</th>\n",
       "      <th>film_rental_duration</th>\n",
       "      <th>film_rental_rate</th>\n",
       "      <th>film_replacement_cost</th>\n",
       "    </tr>\n",
       "  </thead>\n",
       "  <tbody>\n",
       "    <tr>\n",
       "      <th>count</th>\n",
       "      <td>16044.000000</td>\n",
       "      <td>16044.00000</td>\n",
       "      <td>16044.000000</td>\n",
       "      <td>16044.000000</td>\n",
       "    </tr>\n",
       "    <tr>\n",
       "      <th>mean</th>\n",
       "      <td>1.506171</td>\n",
       "      <td>4.93549</td>\n",
       "      <td>2.942630</td>\n",
       "      <td>20.215443</td>\n",
       "    </tr>\n",
       "    <tr>\n",
       "      <th>std</th>\n",
       "      <td>0.499978</td>\n",
       "      <td>1.40169</td>\n",
       "      <td>1.649678</td>\n",
       "      <td>6.081771</td>\n",
       "    </tr>\n",
       "    <tr>\n",
       "      <th>min</th>\n",
       "      <td>1.000000</td>\n",
       "      <td>3.00000</td>\n",
       "      <td>0.990000</td>\n",
       "      <td>9.990000</td>\n",
       "    </tr>\n",
       "    <tr>\n",
       "      <th>25%</th>\n",
       "      <td>1.000000</td>\n",
       "      <td>4.00000</td>\n",
       "      <td>0.990000</td>\n",
       "      <td>14.990000</td>\n",
       "    </tr>\n",
       "    <tr>\n",
       "      <th>50%</th>\n",
       "      <td>2.000000</td>\n",
       "      <td>5.00000</td>\n",
       "      <td>2.990000</td>\n",
       "      <td>20.990000</td>\n",
       "    </tr>\n",
       "    <tr>\n",
       "      <th>75%</th>\n",
       "      <td>2.000000</td>\n",
       "      <td>6.00000</td>\n",
       "      <td>4.990000</td>\n",
       "      <td>25.990000</td>\n",
       "    </tr>\n",
       "    <tr>\n",
       "      <th>max</th>\n",
       "      <td>2.000000</td>\n",
       "      <td>7.00000</td>\n",
       "      <td>4.990000</td>\n",
       "      <td>29.990000</td>\n",
       "    </tr>\n",
       "  </tbody>\n",
       "</table>\n",
       "</div>"
      ],
      "text/plain": [
       "           store_id  film_rental_duration  film_rental_rate  \\\n",
       "count  16044.000000           16044.00000      16044.000000   \n",
       "mean       1.506171               4.93549          2.942630   \n",
       "std        0.499978               1.40169          1.649678   \n",
       "min        1.000000               3.00000          0.990000   \n",
       "25%        1.000000               4.00000          0.990000   \n",
       "50%        2.000000               5.00000          2.990000   \n",
       "75%        2.000000               6.00000          4.990000   \n",
       "max        2.000000               7.00000          4.990000   \n",
       "\n",
       "       film_replacement_cost  \n",
       "count           16044.000000  \n",
       "mean               20.215443  \n",
       "std                 6.081771  \n",
       "min                 9.990000  \n",
       "25%                14.990000  \n",
       "50%                20.990000  \n",
       "75%                25.990000  \n",
       "max                29.990000  "
      ]
     },
     "execution_count": 6,
     "metadata": {},
     "output_type": "execute_result"
    }
   ],
   "source": [
    "df.describe()"
   ]
  },
  {
   "cell_type": "markdown",
   "id": "a7c58d2c",
   "metadata": {
    "papermill": {
     "duration": 0.006038,
     "end_time": "2023-05-23T10:00:04.085247",
     "exception": false,
     "start_time": "2023-05-23T10:00:04.079209",
     "status": "completed"
    },
    "tags": []
   },
   "source": [
    "# Numerical Analysis & Visulationm"
   ]
  },
  {
   "cell_type": "code",
   "execution_count": 7,
   "id": "1a4e7c50",
   "metadata": {
    "execution": {
     "iopub.execute_input": "2023-05-23T10:00:04.099782Z",
     "iopub.status.busy": "2023-05-23T10:00:04.099042Z",
     "iopub.status.idle": "2023-05-23T10:00:04.111256Z",
     "shell.execute_reply": "2023-05-23T10:00:04.110104Z"
    },
    "papermill": {
     "duration": 0.022148,
     "end_time": "2023-05-23T10:00:04.113617",
     "exception": false,
     "start_time": "2023-05-23T10:00:04.091469",
     "status": "completed"
    },
    "tags": []
   },
   "outputs": [
    {
     "data": {
      "text/plain": [
       "count    16044.000000\n",
       "mean         2.942630\n",
       "std          1.649678\n",
       "min          0.990000\n",
       "25%          0.990000\n",
       "50%          2.990000\n",
       "75%          4.990000\n",
       "max          4.990000\n",
       "Name: film_rental_rate, dtype: float64"
      ]
     },
     "execution_count": 7,
     "metadata": {},
     "output_type": "execute_result"
    }
   ],
   "source": [
    "df['film_rental_rate'].describe()"
   ]
  },
  {
   "cell_type": "code",
   "execution_count": 8,
   "id": "5856a87c",
   "metadata": {
    "execution": {
     "iopub.execute_input": "2023-05-23T10:00:04.129428Z",
     "iopub.status.busy": "2023-05-23T10:00:04.128357Z",
     "iopub.status.idle": "2023-05-23T10:00:04.135670Z",
     "shell.execute_reply": "2023-05-23T10:00:04.134563Z"
    },
    "papermill": {
     "duration": 0.017761,
     "end_time": "2023-05-23T10:00:04.137845",
     "exception": false,
     "start_time": "2023-05-23T10:00:04.120084",
     "status": "completed"
    },
    "tags": []
   },
   "outputs": [
    {
     "data": {
      "text/plain": [
       "2.9426302667663933"
      ]
     },
     "execution_count": 8,
     "metadata": {},
     "output_type": "execute_result"
    }
   ],
   "source": [
    "df['film_rental_rate'].mean()"
   ]
  },
  {
   "cell_type": "code",
   "execution_count": 9,
   "id": "9c535bca",
   "metadata": {
    "execution": {
     "iopub.execute_input": "2023-05-23T10:00:04.152849Z",
     "iopub.status.busy": "2023-05-23T10:00:04.152377Z",
     "iopub.status.idle": "2023-05-23T10:00:04.160140Z",
     "shell.execute_reply": "2023-05-23T10:00:04.159031Z"
    },
    "papermill": {
     "duration": 0.018074,
     "end_time": "2023-05-23T10:00:04.162564",
     "exception": false,
     "start_time": "2023-05-23T10:00:04.144490",
     "status": "completed"
    },
    "tags": []
   },
   "outputs": [
    {
     "data": {
      "text/plain": [
       "2.99"
      ]
     },
     "execution_count": 9,
     "metadata": {},
     "output_type": "execute_result"
    }
   ],
   "source": [
    "df['film_rental_rate'].median()"
   ]
  },
  {
   "cell_type": "code",
   "execution_count": 10,
   "id": "17c92642",
   "metadata": {
    "execution": {
     "iopub.execute_input": "2023-05-23T10:00:04.178531Z",
     "iopub.status.busy": "2023-05-23T10:00:04.178131Z",
     "iopub.status.idle": "2023-05-23T10:00:04.508712Z",
     "shell.execute_reply": "2023-05-23T10:00:04.507595Z"
    },
    "papermill": {
     "duration": 0.341704,
     "end_time": "2023-05-23T10:00:04.511305",
     "exception": false,
     "start_time": "2023-05-23T10:00:04.169601",
     "status": "completed"
    },
    "tags": []
   },
   "outputs": [
    {
     "data": {
      "text/plain": [
       "<AxesSubplot: >"
      ]
     },
     "execution_count": 10,
     "metadata": {},
     "output_type": "execute_result"
    },
    {
     "data": {
      "image/png": "[encoded data removed]",
      "text/plain": [
       "<Figure size 1400x600 with 1 Axes>"
      ]
     },
     "metadata": {},
     "output_type": "display_data"
    }
   ],
   "source": [
    "df['film_rental_rate'].plot(kind='box', vert=False, figsize = (14,6))"
   ]
  },
  {
   "cell_type": "code",
   "execution_count": 11,
   "id": "aa355ad9",
   "metadata": {
    "execution": {
     "iopub.execute_input": "2023-05-23T10:00:04.527923Z",
     "iopub.status.busy": "2023-05-23T10:00:04.527492Z",
     "iopub.status.idle": "2023-05-23T10:00:06.059268Z",
     "shell.execute_reply": "2023-05-23T10:00:06.058172Z"
    },
    "papermill": {
     "duration": 1.543084,
     "end_time": "2023-05-23T10:00:06.061574",
     "exception": false,
     "start_time": "2023-05-23T10:00:04.518490",
     "status": "completed"
    },
    "tags": []
   },
   "outputs": [
    {
     "name": "stderr",
     "output_type": "stream",
     "text": [
      "/opt/conda/lib/python3.10/site-packages/scipy/__init__.py:146: UserWarning: A NumPy version >=1.16.5 and <1.23.0 is required for this version of SciPy (detected version 1.23.5\n",
      "  warnings.warn(f\"A NumPy version >={np_minversion} and <{np_maxversion}\"\n"
     ]
    },
    {
     "data": {
      "text/plain": [
       "<AxesSubplot: ylabel='Density'>"
      ]
     },
     "execution_count": 11,
     "metadata": {},
     "output_type": "execute_result"
    },
    {
     "data": {
      "image/png": "[encoded data removed]",
      "text/plain": [
       "<Figure size 1400x600 with 1 Axes>"
      ]
     },
     "metadata": {},
     "output_type": "display_data"
    }
   ],
   "source": [
    "df['film_rental_rate'].plot(kind='density', figsize=(14,6)) # kde"
   ]
  },
  {
   "cell_type": "code",
   "execution_count": 12,
   "id": "5d327444",
   "metadata": {
    "execution": {
     "iopub.execute_input": "2023-05-23T10:00:06.080444Z",
     "iopub.status.busy": "2023-05-23T10:00:06.079205Z",
     "iopub.status.idle": "2023-05-23T10:00:06.284380Z",
     "shell.execute_reply": "2023-05-23T10:00:06.283232Z"
    },
    "papermill": {
     "duration": 0.217227,
     "end_time": "2023-05-23T10:00:06.286889",
     "exception": false,
     "start_time": "2023-05-23T10:00:06.069662",
     "status": "completed"
    },
    "tags": []
   },
   "outputs": [
    {
     "data": {
      "text/plain": [
       "Text(0, 0.5, 'Number of Rentals')"
      ]
     },
     "execution_count": 12,
     "metadata": {},
     "output_type": "execute_result"
    },
    {
     "data": {
      "image/png": "[encoded data removed]",
      "text/plain": [
       "<Figure size 1400x600 with 1 Axes>"
      ]
     },
     "metadata": {},
     "output_type": "display_data"
    }
   ],
   "source": [
    "ax = df['film_rental_rate'].value_counts().plot(kind='bar', figsize=(14,6))\n",
    "ax.set_ylabel('Number of Rentals')"
   ]
  }
 ],
 "metadata": {
  "kernelspec": {
   "display_name": "Python 3",
   "language": "python",
   "name": "python3"
  },
  "language_info": {
   "codemirror_mode": {
    "name": "ipython",
    "version": 3
   },
   "file_extension": ".py",
   "mimetype": "text/x-python",
   "name": "python",
   "nbconvert_exporter": "python",
   "pygments_lexer": "ipython3",
   "version": "3.10.10"
  },
  "papermill": {
   "default_parameters": {},
   "duration": 15.651216,
   "end_time": "2023-05-23T10:00:07.219658",
   "environment_variables": {},
   "exception": null,
   "input_path": "__notebook__.ipynb",
   "output_path": "__notebook__.ipynb",
   "parameters": {},
   "start_time": "2023-05-23T09:59:51.568442",
   "version": "2.4.0"
  }
 },
 "nbformat": 4,
 "nbformat_minor": 5
}
